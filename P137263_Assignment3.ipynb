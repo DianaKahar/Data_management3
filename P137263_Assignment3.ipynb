{
  "nbformat": 4,
  "nbformat_minor": 0,
  "metadata": {
    "colab": {
      "provenance": [],
      "authorship_tag": "ABX9TyMY9DURSLhD+msFN1arcFU0",
      "include_colab_link": true
    },
    "kernelspec": {
      "name": "python3",
      "display_name": "Python 3"
    },
    "language_info": {
      "name": "python"
    }
  },
  "cells": [
    {
      "cell_type": "markdown",
      "metadata": {
        "id": "view-in-github",
        "colab_type": "text"
      },
      "source": [
        "<a href=\"https://colab.research.google.com/github/DianaKahar/Data_management3/blob/main/P137263_Assignment3.ipynb\" target=\"_parent\"><img src=\"https://colab.research.google.com/assets/colab-badge.svg\" alt=\"Open In Colab\"/></a>"
      ]
    },
    {
      "cell_type": "markdown",
      "source": [
        "#**STQD6324 DATA MANAGEMENT**"
      ],
      "metadata": {
        "id": "PzmYHoAE7HwC"
      }
    },
    {
      "cell_type": "markdown",
      "source": [
        "**INTRODUCTION**"
      ],
      "metadata": {
        "id": "yrc-ItRTWth3"
      }
    },
    {
      "cell_type": "code",
      "source": [
        "pip install pyspark"
      ],
      "metadata": {
        "colab": {
          "base_uri": "https://localhost:8080/"
        },
        "id": "_VZ5mLCvDW0Z",
        "outputId": "7e6dd02f-59c6-405a-ad19-d589ca185677"
      },
      "execution_count": 7,
      "outputs": [
        {
          "output_type": "stream",
          "name": "stdout",
          "text": [
            "Collecting pyspark\n",
            "  Downloading pyspark-3.5.1.tar.gz (317.0 MB)\n",
            "\u001b[2K     \u001b[90m━━━━━━━━━━━━━━━━━━━━━━━━━━━━━━━━━━━━━━━━\u001b[0m \u001b[32m317.0/317.0 MB\u001b[0m \u001b[31m2.2 MB/s\u001b[0m eta \u001b[36m0:00:00\u001b[0m\n",
            "\u001b[?25h  Preparing metadata (setup.py) ... \u001b[?25l\u001b[?25hdone\n",
            "Requirement already satisfied: py4j==0.10.9.7 in /usr/local/lib/python3.10/dist-packages (from pyspark) (0.10.9.7)\n",
            "Building wheels for collected packages: pyspark\n",
            "  Building wheel for pyspark (setup.py) ... \u001b[?25l\u001b[?25hdone\n",
            "  Created wheel for pyspark: filename=pyspark-3.5.1-py2.py3-none-any.whl size=317488491 sha256=4f2f804fb5dd2115660536b9fb005cac247e493eda4b206d4c2c35b724052947\n",
            "  Stored in directory: /root/.cache/pip/wheels/80/1d/60/2c256ed38dddce2fdd93be545214a63e02fbd8d74fb0b7f3a6\n",
            "Successfully built pyspark\n",
            "Installing collected packages: pyspark\n",
            "Successfully installed pyspark-3.5.1\n"
          ]
        }
      ]
    },
    {
      "cell_type": "code",
      "source": [
        "import pandas as pd\n",
        "from sklearn.datasets import load_iris\n",
        "from pyspark.sql import SparkSession\n",
        "from pyspark.ml.feature import VectorAssembler, StringIndexer\n",
        "from pyspark.ml.classification import RandomForestClassifier\n",
        "from pyspark.ml.evaluation import MulticlassClassificationEvaluator\n",
        "from pyspark.ml.tuning import CrossValidator, ParamGridBuilder"
      ],
      "metadata": {
        "id": "SoQgwzyc6JLe"
      },
      "execution_count": 19,
      "outputs": []
    },
    {
      "cell_type": "code",
      "source": [
        "iris = load_iris()\n",
        "iris_df = pd.DataFrame(data=iris.data, columns=iris.feature_names)\n",
        "iris_df['label'] = iris.target"
      ],
      "metadata": {
        "id": "PwP8Ttn66JOZ"
      },
      "execution_count": 2,
      "outputs": []
    },
    {
      "cell_type": "code",
      "source": [
        "iris_df.to_csv('iris.csv', index=False)"
      ],
      "metadata": {
        "id": "YeRdHkS-6JRy"
      },
      "execution_count": 5,
      "outputs": []
    },
    {
      "cell_type": "code",
      "source": [
        "spark = SparkSession.builder.appName(\"IrisClassification\").getOrCreate()"
      ],
      "metadata": {
        "id": "CD_KZt8A6JYC"
      },
      "execution_count": 9,
      "outputs": []
    },
    {
      "cell_type": "code",
      "source": [
        "data = spark.read.csv('iris.csv', header=True, inferSchema=True)\n",
        "data.show()"
      ],
      "metadata": {
        "colab": {
          "base_uri": "https://localhost:8080/"
        },
        "id": "4f6xmZRv6JbM",
        "outputId": "a6bbaa09-7568-49b5-f653-d49588e2271e"
      },
      "execution_count": 10,
      "outputs": [
        {
          "output_type": "stream",
          "name": "stdout",
          "text": [
            "+-----------------+----------------+-----------------+----------------+-----+\n",
            "|sepal length (cm)|sepal width (cm)|petal length (cm)|petal width (cm)|label|\n",
            "+-----------------+----------------+-----------------+----------------+-----+\n",
            "|              5.1|             3.5|              1.4|             0.2|    0|\n",
            "|              4.9|             3.0|              1.4|             0.2|    0|\n",
            "|              4.7|             3.2|              1.3|             0.2|    0|\n",
            "|              4.6|             3.1|              1.5|             0.2|    0|\n",
            "|              5.0|             3.6|              1.4|             0.2|    0|\n",
            "|              5.4|             3.9|              1.7|             0.4|    0|\n",
            "|              4.6|             3.4|              1.4|             0.3|    0|\n",
            "|              5.0|             3.4|              1.5|             0.2|    0|\n",
            "|              4.4|             2.9|              1.4|             0.2|    0|\n",
            "|              4.9|             3.1|              1.5|             0.1|    0|\n",
            "|              5.4|             3.7|              1.5|             0.2|    0|\n",
            "|              4.8|             3.4|              1.6|             0.2|    0|\n",
            "|              4.8|             3.0|              1.4|             0.1|    0|\n",
            "|              4.3|             3.0|              1.1|             0.1|    0|\n",
            "|              5.8|             4.0|              1.2|             0.2|    0|\n",
            "|              5.7|             4.4|              1.5|             0.4|    0|\n",
            "|              5.4|             3.9|              1.3|             0.4|    0|\n",
            "|              5.1|             3.5|              1.4|             0.3|    0|\n",
            "|              5.7|             3.8|              1.7|             0.3|    0|\n",
            "|              5.1|             3.8|              1.5|             0.3|    0|\n",
            "+-----------------+----------------+-----------------+----------------+-----+\n",
            "only showing top 20 rows\n",
            "\n"
          ]
        }
      ]
    },
    {
      "cell_type": "code",
      "source": [
        "assembler = VectorAssembler(inputCols=iris.feature_names, outputCol=\"features\")\n",
        "data = assembler.transform(data)"
      ],
      "metadata": {
        "id": "PQREG12S6JeU"
      },
      "execution_count": 13,
      "outputs": []
    },
    {
      "cell_type": "code",
      "source": [
        "indexer = StringIndexer(inputCol=\"label\", outputCol=\"indexedLabel\")\n",
        "data = indexer.fit(data).transform(data)\n",
        "data.show()"
      ],
      "metadata": {
        "colab": {
          "base_uri": "https://localhost:8080/"
        },
        "id": "n8UYhN6p6Jhc",
        "outputId": "ce1524b8-d0f7-4a2a-8a3d-e91330c49815"
      },
      "execution_count": 14,
      "outputs": [
        {
          "output_type": "stream",
          "name": "stdout",
          "text": [
            "+-----------------+----------------+-----------------+----------------+-----+-----------------+------------+\n",
            "|sepal length (cm)|sepal width (cm)|petal length (cm)|petal width (cm)|label|         features|indexedLabel|\n",
            "+-----------------+----------------+-----------------+----------------+-----+-----------------+------------+\n",
            "|              5.1|             3.5|              1.4|             0.2|    0|[5.1,3.5,1.4,0.2]|         0.0|\n",
            "|              4.9|             3.0|              1.4|             0.2|    0|[4.9,3.0,1.4,0.2]|         0.0|\n",
            "|              4.7|             3.2|              1.3|             0.2|    0|[4.7,3.2,1.3,0.2]|         0.0|\n",
            "|              4.6|             3.1|              1.5|             0.2|    0|[4.6,3.1,1.5,0.2]|         0.0|\n",
            "|              5.0|             3.6|              1.4|             0.2|    0|[5.0,3.6,1.4,0.2]|         0.0|\n",
            "|              5.4|             3.9|              1.7|             0.4|    0|[5.4,3.9,1.7,0.4]|         0.0|\n",
            "|              4.6|             3.4|              1.4|             0.3|    0|[4.6,3.4,1.4,0.3]|         0.0|\n",
            "|              5.0|             3.4|              1.5|             0.2|    0|[5.0,3.4,1.5,0.2]|         0.0|\n",
            "|              4.4|             2.9|              1.4|             0.2|    0|[4.4,2.9,1.4,0.2]|         0.0|\n",
            "|              4.9|             3.1|              1.5|             0.1|    0|[4.9,3.1,1.5,0.1]|         0.0|\n",
            "|              5.4|             3.7|              1.5|             0.2|    0|[5.4,3.7,1.5,0.2]|         0.0|\n",
            "|              4.8|             3.4|              1.6|             0.2|    0|[4.8,3.4,1.6,0.2]|         0.0|\n",
            "|              4.8|             3.0|              1.4|             0.1|    0|[4.8,3.0,1.4,0.1]|         0.0|\n",
            "|              4.3|             3.0|              1.1|             0.1|    0|[4.3,3.0,1.1,0.1]|         0.0|\n",
            "|              5.8|             4.0|              1.2|             0.2|    0|[5.8,4.0,1.2,0.2]|         0.0|\n",
            "|              5.7|             4.4|              1.5|             0.4|    0|[5.7,4.4,1.5,0.4]|         0.0|\n",
            "|              5.4|             3.9|              1.3|             0.4|    0|[5.4,3.9,1.3,0.4]|         0.0|\n",
            "|              5.1|             3.5|              1.4|             0.3|    0|[5.1,3.5,1.4,0.3]|         0.0|\n",
            "|              5.7|             3.8|              1.7|             0.3|    0|[5.7,3.8,1.7,0.3]|         0.0|\n",
            "|              5.1|             3.8|              1.5|             0.3|    0|[5.1,3.8,1.5,0.3]|         0.0|\n",
            "+-----------------+----------------+-----------------+----------------+-----+-----------------+------------+\n",
            "only showing top 20 rows\n",
            "\n"
          ]
        }
      ]
    },
    {
      "cell_type": "code",
      "source": [
        "train_data, test_data = data.randomSplit([0.8, 0.2], seed=1234)"
      ],
      "metadata": {
        "id": "B0LDHZuo6Jk1"
      },
      "execution_count": 18,
      "outputs": []
    },
    {
      "cell_type": "code",
      "source": [
        "rf = RandomForestClassifier(labelCol=\"indexedLabel\", featuresCol=\"features\")"
      ],
      "metadata": {
        "id": "UBqDa2okGtb2"
      },
      "execution_count": 20,
      "outputs": []
    },
    {
      "cell_type": "code",
      "source": [
        "paramGrid = ParamGridBuilder() \\\n",
        "    .addGrid(rf.numTrees, [10, 20, 30]) \\\n",
        "    .addGrid(rf.maxDepth, [5, 10, 15]) \\\n",
        "    .build()"
      ],
      "metadata": {
        "id": "uhJfu_f-GtYH"
      },
      "execution_count": 21,
      "outputs": []
    },
    {
      "cell_type": "code",
      "source": [
        "crossval = CrossValidator(estimator=rf,\n",
        "                          estimatorParamMaps=paramGrid,\n",
        "                          evaluator=MulticlassClassificationEvaluator(labelCol=\"indexedLabel\", metricName=\"accuracy\"),\n",
        "                          numFolds=3)"
      ],
      "metadata": {
        "id": "G8SgJ0OCGtU0"
      },
      "execution_count": 22,
      "outputs": []
    },
    {
      "cell_type": "code",
      "source": [
        "cvModel = crossval.fit(train_data)"
      ],
      "metadata": {
        "id": "gaxSX63iGtRw"
      },
      "execution_count": 23,
      "outputs": []
    },
    {
      "cell_type": "code",
      "source": [
        "predictions = cvModel.transform(test_data)\n",
        "evaluator = MulticlassClassificationEvaluator(labelCol=\"indexedLabel\", predictionCol=\"prediction\")\n",
        "accuracy = evaluator.evaluate(predictions, {evaluator.metricName: \"accuracy\"})\n",
        "precision = evaluator.evaluate(predictions, {evaluator.metricName: \"weightedPrecision\"})\n",
        "recall = evaluator.evaluate(predictions, {evaluator.metricName: \"weightedRecall\"})\n",
        "f1 = evaluator.evaluate(predictions, {evaluator.metricName: \"f1\"})"
      ],
      "metadata": {
        "id": "vjpdYIVwGtOf"
      },
      "execution_count": 24,
      "outputs": []
    },
    {
      "cell_type": "code",
      "source": [
        "print(f\"Accuracy: {accuracy}\")\n",
        "print(f\"Precision: {precision}\")\n",
        "print(f\"Recall: {recall}\")\n",
        "print(f\"F1 Score: {f1}\")"
      ],
      "metadata": {
        "colab": {
          "base_uri": "https://localhost:8080/"
        },
        "id": "JTrTikFZGtHd",
        "outputId": "1888993d-81df-48fa-9dd1-5384757b8760"
      },
      "execution_count": 25,
      "outputs": [
        {
          "output_type": "stream",
          "name": "stdout",
          "text": [
            "Accuracy: 0.972972972972973\n",
            "Precision: 0.9750519750519752\n",
            "Recall: 0.972972972972973\n",
            "F1 Score: 0.972870012870013\n"
          ]
        }
      ]
    },
    {
      "cell_type": "code",
      "source": [
        "predictions.select(\"indexedLabel\", \"prediction\").show()\n"
      ],
      "metadata": {
        "colab": {
          "base_uri": "https://localhost:8080/"
        },
        "id": "FiSvWeNIGs_g",
        "outputId": "579bd676-9ec3-4dff-8ed2-6a135f445f79"
      },
      "execution_count": 26,
      "outputs": [
        {
          "output_type": "stream",
          "name": "stdout",
          "text": [
            "+------------+----------+\n",
            "|indexedLabel|prediction|\n",
            "+------------+----------+\n",
            "|         0.0|       0.0|\n",
            "|         0.0|       0.0|\n",
            "|         0.0|       0.0|\n",
            "|         0.0|       0.0|\n",
            "|         0.0|       0.0|\n",
            "|         0.0|       0.0|\n",
            "|         0.0|       0.0|\n",
            "|         0.0|       0.0|\n",
            "|         0.0|       0.0|\n",
            "|         0.0|       0.0|\n",
            "|         1.0|       1.0|\n",
            "|         1.0|       1.0|\n",
            "|         0.0|       0.0|\n",
            "|         0.0|       0.0|\n",
            "|         1.0|       1.0|\n",
            "|         1.0|       1.0|\n",
            "|         0.0|       0.0|\n",
            "|         0.0|       0.0|\n",
            "|         2.0|       2.0|\n",
            "|         2.0|       1.0|\n",
            "+------------+----------+\n",
            "only showing top 20 rows\n",
            "\n"
          ]
        }
      ]
    },
    {
      "cell_type": "code",
      "source": [
        "confusion_matrix = predictions.groupBy(\"indexedLabel\").pivot(\"prediction\").count().fillna(0).orderBy(\"indexedLabel\")\n",
        "confusion_matrix.show()"
      ],
      "metadata": {
        "colab": {
          "base_uri": "https://localhost:8080/"
        },
        "id": "3HFwhNgw6JoA",
        "outputId": "ed824d7e-65ff-48c2-ea3b-bb2a872d634f"
      },
      "execution_count": 27,
      "outputs": [
        {
          "output_type": "stream",
          "name": "stdout",
          "text": [
            "+------------+---+---+---+\n",
            "|indexedLabel|0.0|1.0|2.0|\n",
            "+------------+---+---+---+\n",
            "|         0.0| 14|  0|  0|\n",
            "|         1.0|  0| 12|  0|\n",
            "|         2.0|  0|  1| 10|\n",
            "+------------+---+---+---+\n",
            "\n"
          ]
        }
      ]
    },
    {
      "cell_type": "code",
      "source": [
        "predictions.select(\"indexedLabel\", \"prediction\").show()\n",
        "\n",
        "# You can also use confusion matrix for a detailed analysis\n",
        "from pyspark.ml.evaluation import MulticlassClassificationEvaluator\n",
        "evaluator = MulticlassClassificationEvaluator(\n",
        "    labelCol=\"indexedLabel\", predictionCol=\"prediction\", metricName=\"accuracy\")\n",
        "accuracy = evaluator.evaluate(predictions)\n",
        "print(f\"Accuracy: {accuracy}\")\n",
        "\n",
        "# Another evaluation metric\n",
        "evaluator = MulticlassClassificationEvaluator(\n",
        "    labelCol=\"indexedLabel\", predictionCol=\"prediction\", metricName=\"weightedPrecision\")\n",
        "precision = evaluator.evaluate(predictions)\n",
        "print(f\"Precision: {precision}\")\n",
        "\n",
        "evaluator = MulticlassClassificationEvaluator(\n",
        "    labelCol=\"indexedLabel\", predictionCol=\"prediction\", metricName=\"weightedRecall\")\n",
        "recall = evaluator.evaluate(predictions)\n",
        "print(f\"Recall: {recall}\")\n",
        "\n",
        "evaluator = MulticlassClassificationEvaluator(\n",
        "    labelCol=\"indexedLabel\", predictionCol=\"prediction\", metricName=\"f1\")\n",
        "f1 = evaluator.evaluate(predictions)\n",
        "print(f\"F1 Score: {f1}\")"
      ],
      "metadata": {
        "colab": {
          "base_uri": "https://localhost:8080/"
        },
        "id": "QHC3gOnROzoH",
        "outputId": "406a7a13-1216-451d-b575-27f343b4dd33"
      },
      "execution_count": 28,
      "outputs": [
        {
          "output_type": "stream",
          "name": "stdout",
          "text": [
            "+------------+----------+\n",
            "|indexedLabel|prediction|\n",
            "+------------+----------+\n",
            "|         0.0|       0.0|\n",
            "|         0.0|       0.0|\n",
            "|         0.0|       0.0|\n",
            "|         0.0|       0.0|\n",
            "|         0.0|       0.0|\n",
            "|         0.0|       0.0|\n",
            "|         0.0|       0.0|\n",
            "|         0.0|       0.0|\n",
            "|         0.0|       0.0|\n",
            "|         0.0|       0.0|\n",
            "|         1.0|       1.0|\n",
            "|         1.0|       1.0|\n",
            "|         0.0|       0.0|\n",
            "|         0.0|       0.0|\n",
            "|         1.0|       1.0|\n",
            "|         1.0|       1.0|\n",
            "|         0.0|       0.0|\n",
            "|         0.0|       0.0|\n",
            "|         2.0|       2.0|\n",
            "|         2.0|       1.0|\n",
            "+------------+----------+\n",
            "only showing top 20 rows\n",
            "\n",
            "Accuracy: 0.972972972972973\n",
            "Precision: 0.9750519750519752\n",
            "Recall: 0.972972972972973\n",
            "F1 Score: 0.972870012870013\n"
          ]
        }
      ]
    }
  ]
}