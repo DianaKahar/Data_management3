{
  "nbformat": 4,
  "nbformat_minor": 0,
  "metadata": {
    "colab": {
      "provenance": [],
      "authorship_tag": "ABX9TyPXZ/M1r2k7eazl1YI3KKKp",
      "include_colab_link": true
    },
    "kernelspec": {
      "name": "python3",
      "display_name": "Python 3"
    },
    "language_info": {
      "name": "python"
    }
  },
  "cells": [
    {
      "cell_type": "markdown",
      "metadata": {
        "id": "view-in-github",
        "colab_type": "text"
      },
      "source": [
        "<a href=\"https://colab.research.google.com/github/DianaKahar/Data_management3/blob/main/P137263_Assignment3.ipynb\" target=\"_parent\"><img src=\"https://colab.research.google.com/assets/colab-badge.svg\" alt=\"Open In Colab\"/></a>"
      ]
    },
    {
      "cell_type": "markdown",
      "source": [
        "#**STQD6324 DATA MANAGEMENT**"
      ],
      "metadata": {
        "id": "PzmYHoAE7HwC"
      }
    },
    {
      "cell_type": "markdown",
      "source": [
        "**INTRODUCTION**"
      ],
      "metadata": {
        "id": "yrc-ItRTWth3"
      }
    },
    {
      "cell_type": "code",
      "source": [
        "pip install pyspark"
      ],
      "metadata": {
        "colab": {
          "base_uri": "https://localhost:8080/"
        },
        "id": "_VZ5mLCvDW0Z",
        "outputId": "2148938d-7e4e-4c31-bd74-4b727ec491ca"
      },
      "execution_count": 2,
      "outputs": [
        {
          "output_type": "stream",
          "name": "stdout",
          "text": [
            "Collecting pyspark\n",
            "  Downloading pyspark-3.5.1.tar.gz (317.0 MB)\n",
            "\u001b[2K     \u001b[90m━━━━━━━━━━━━━━━━━━━━━━━━━━━━━━━━━━━━━━━━\u001b[0m \u001b[32m317.0/317.0 MB\u001b[0m \u001b[31m2.3 MB/s\u001b[0m eta \u001b[36m0:00:00\u001b[0m\n",
            "\u001b[?25h  Preparing metadata (setup.py) ... \u001b[?25l\u001b[?25hdone\n",
            "Requirement already satisfied: py4j==0.10.9.7 in /usr/local/lib/python3.10/dist-packages (from pyspark) (0.10.9.7)\n",
            "Building wheels for collected packages: pyspark\n",
            "  Building wheel for pyspark (setup.py) ... \u001b[?25l\u001b[?25hdone\n",
            "  Created wheel for pyspark: filename=pyspark-3.5.1-py2.py3-none-any.whl size=317488491 sha256=1e6f417a89e9ef8dc0ef2985a0c2148f2aebec9b6d0969af2c224d74fe678c57\n",
            "  Stored in directory: /root/.cache/pip/wheels/80/1d/60/2c256ed38dddce2fdd93be545214a63e02fbd8d74fb0b7f3a6\n",
            "Successfully built pyspark\n",
            "Installing collected packages: pyspark\n",
            "Successfully installed pyspark-3.5.1\n"
          ]
        }
      ]
    },
    {
      "cell_type": "code",
      "source": [
        "import pandas as pd\n",
        "from sklearn.datasets import load_iris\n",
        "from pyspark.sql import SparkSession\n",
        "from pyspark.ml.feature import VectorAssembler, StringIndexer\n",
        "from pyspark.ml.classification import RandomForestClassifier\n",
        "from pyspark.ml.evaluation import MulticlassClassificationEvaluator\n",
        "from pyspark.ml.tuning import CrossValidator, ParamGridBuilder\n",
        "from sklearn.metrics import classification_report\n",
        "import matplotlib.pyplot as plt\n",
        "import seaborn as sns\n",
        "from sklearn.metrics import confusion_matrix\n",
        "from sklearn.model_selection import learning_curve\n",
        "import numpy as np"
      ],
      "metadata": {
        "id": "SoQgwzyc6JLe"
      },
      "execution_count": 3,
      "outputs": []
    },
    {
      "cell_type": "code",
      "source": [
        "iris = load_iris()\n",
        "iris_df = pd.DataFrame(data=iris.data, columns=iris.feature_names)\n",
        "iris_df['label'] = iris.target"
      ],
      "metadata": {
        "id": "PwP8Ttn66JOZ"
      },
      "execution_count": 4,
      "outputs": []
    },
    {
      "cell_type": "code",
      "source": [
        "iris_df.to_csv('iris.csv', index=False)"
      ],
      "metadata": {
        "id": "YeRdHkS-6JRy"
      },
      "execution_count": 5,
      "outputs": []
    },
    {
      "cell_type": "code",
      "source": [
        "spark = SparkSession.builder.appName(\"IrisClassification\").getOrCreate()"
      ],
      "metadata": {
        "id": "CD_KZt8A6JYC"
      },
      "execution_count": 6,
      "outputs": []
    },
    {
      "cell_type": "code",
      "source": [
        "data = spark.read.csv('iris.csv', header=True, inferSchema=True)\n",
        "data.show()"
      ],
      "metadata": {
        "colab": {
          "base_uri": "https://localhost:8080/"
        },
        "id": "4f6xmZRv6JbM",
        "outputId": "05989a07-938a-45d1-ac8d-4136109fb034"
      },
      "execution_count": 7,
      "outputs": [
        {
          "output_type": "stream",
          "name": "stdout",
          "text": [
            "+-----------------+----------------+-----------------+----------------+-----+\n",
            "|sepal length (cm)|sepal width (cm)|petal length (cm)|petal width (cm)|label|\n",
            "+-----------------+----------------+-----------------+----------------+-----+\n",
            "|              5.1|             3.5|              1.4|             0.2|    0|\n",
            "|              4.9|             3.0|              1.4|             0.2|    0|\n",
            "|              4.7|             3.2|              1.3|             0.2|    0|\n",
            "|              4.6|             3.1|              1.5|             0.2|    0|\n",
            "|              5.0|             3.6|              1.4|             0.2|    0|\n",
            "|              5.4|             3.9|              1.7|             0.4|    0|\n",
            "|              4.6|             3.4|              1.4|             0.3|    0|\n",
            "|              5.0|             3.4|              1.5|             0.2|    0|\n",
            "|              4.4|             2.9|              1.4|             0.2|    0|\n",
            "|              4.9|             3.1|              1.5|             0.1|    0|\n",
            "|              5.4|             3.7|              1.5|             0.2|    0|\n",
            "|              4.8|             3.4|              1.6|             0.2|    0|\n",
            "|              4.8|             3.0|              1.4|             0.1|    0|\n",
            "|              4.3|             3.0|              1.1|             0.1|    0|\n",
            "|              5.8|             4.0|              1.2|             0.2|    0|\n",
            "|              5.7|             4.4|              1.5|             0.4|    0|\n",
            "|              5.4|             3.9|              1.3|             0.4|    0|\n",
            "|              5.1|             3.5|              1.4|             0.3|    0|\n",
            "|              5.7|             3.8|              1.7|             0.3|    0|\n",
            "|              5.1|             3.8|              1.5|             0.3|    0|\n",
            "+-----------------+----------------+-----------------+----------------+-----+\n",
            "only showing top 20 rows\n",
            "\n"
          ]
        }
      ]
    },
    {
      "cell_type": "code",
      "source": [
        "assembler = VectorAssembler(inputCols=iris.feature_names, outputCol=\"features\")\n",
        "data = assembler.transform(data)"
      ],
      "metadata": {
        "id": "PQREG12S6JeU"
      },
      "execution_count": 8,
      "outputs": []
    },
    {
      "cell_type": "code",
      "source": [
        "indexer = StringIndexer(inputCol=\"label\", outputCol=\"indexedLabel\")\n",
        "data = indexer.fit(data).transform(data)\n",
        "data.show()"
      ],
      "metadata": {
        "colab": {
          "base_uri": "https://localhost:8080/"
        },
        "id": "n8UYhN6p6Jhc",
        "outputId": "805a7b8d-d2a3-4ce4-b44d-d9e775a4843f"
      },
      "execution_count": 9,
      "outputs": [
        {
          "output_type": "stream",
          "name": "stdout",
          "text": [
            "+-----------------+----------------+-----------------+----------------+-----+-----------------+------------+\n",
            "|sepal length (cm)|sepal width (cm)|petal length (cm)|petal width (cm)|label|         features|indexedLabel|\n",
            "+-----------------+----------------+-----------------+----------------+-----+-----------------+------------+\n",
            "|              5.1|             3.5|              1.4|             0.2|    0|[5.1,3.5,1.4,0.2]|         0.0|\n",
            "|              4.9|             3.0|              1.4|             0.2|    0|[4.9,3.0,1.4,0.2]|         0.0|\n",
            "|              4.7|             3.2|              1.3|             0.2|    0|[4.7,3.2,1.3,0.2]|         0.0|\n",
            "|              4.6|             3.1|              1.5|             0.2|    0|[4.6,3.1,1.5,0.2]|         0.0|\n",
            "|              5.0|             3.6|              1.4|             0.2|    0|[5.0,3.6,1.4,0.2]|         0.0|\n",
            "|              5.4|             3.9|              1.7|             0.4|    0|[5.4,3.9,1.7,0.4]|         0.0|\n",
            "|              4.6|             3.4|              1.4|             0.3|    0|[4.6,3.4,1.4,0.3]|         0.0|\n",
            "|              5.0|             3.4|              1.5|             0.2|    0|[5.0,3.4,1.5,0.2]|         0.0|\n",
            "|              4.4|             2.9|              1.4|             0.2|    0|[4.4,2.9,1.4,0.2]|         0.0|\n",
            "|              4.9|             3.1|              1.5|             0.1|    0|[4.9,3.1,1.5,0.1]|         0.0|\n",
            "|              5.4|             3.7|              1.5|             0.2|    0|[5.4,3.7,1.5,0.2]|         0.0|\n",
            "|              4.8|             3.4|              1.6|             0.2|    0|[4.8,3.4,1.6,0.2]|         0.0|\n",
            "|              4.8|             3.0|              1.4|             0.1|    0|[4.8,3.0,1.4,0.1]|         0.0|\n",
            "|              4.3|             3.0|              1.1|             0.1|    0|[4.3,3.0,1.1,0.1]|         0.0|\n",
            "|              5.8|             4.0|              1.2|             0.2|    0|[5.8,4.0,1.2,0.2]|         0.0|\n",
            "|              5.7|             4.4|              1.5|             0.4|    0|[5.7,4.4,1.5,0.4]|         0.0|\n",
            "|              5.4|             3.9|              1.3|             0.4|    0|[5.4,3.9,1.3,0.4]|         0.0|\n",
            "|              5.1|             3.5|              1.4|             0.3|    0|[5.1,3.5,1.4,0.3]|         0.0|\n",
            "|              5.7|             3.8|              1.7|             0.3|    0|[5.7,3.8,1.7,0.3]|         0.0|\n",
            "|              5.1|             3.8|              1.5|             0.3|    0|[5.1,3.8,1.5,0.3]|         0.0|\n",
            "+-----------------+----------------+-----------------+----------------+-----+-----------------+------------+\n",
            "only showing top 20 rows\n",
            "\n"
          ]
        }
      ]
    },
    {
      "cell_type": "code",
      "source": [
        "train_data, test_data = data.randomSplit([0.8, 0.2], seed=1234)"
      ],
      "metadata": {
        "id": "B0LDHZuo6Jk1"
      },
      "execution_count": 10,
      "outputs": []
    },
    {
      "cell_type": "code",
      "source": [
        "rf = RandomForestClassifier(labelCol=\"indexedLabel\", featuresCol=\"features\")"
      ],
      "metadata": {
        "id": "UBqDa2okGtb2"
      },
      "execution_count": 11,
      "outputs": []
    },
    {
      "cell_type": "code",
      "source": [
        "paramGrid = ParamGridBuilder() \\\n",
        "    .addGrid(rf.numTrees, [10, 20, 30]) \\\n",
        "    .addGrid(rf.maxDepth, [5, 10, 15]) \\\n",
        "    .build()"
      ],
      "metadata": {
        "id": "uhJfu_f-GtYH"
      },
      "execution_count": 12,
      "outputs": []
    },
    {
      "cell_type": "code",
      "source": [
        "crossval = CrossValidator(estimator=rf,\n",
        "                          estimatorParamMaps=paramGrid,\n",
        "                          evaluator=MulticlassClassificationEvaluator(labelCol=\"indexedLabel\", metricName=\"accuracy\"),\n",
        "                          numFolds=3)"
      ],
      "metadata": {
        "id": "G8SgJ0OCGtU0"
      },
      "execution_count": 13,
      "outputs": []
    },
    {
      "cell_type": "code",
      "source": [
        "cvModel = crossval.fit(train_data)"
      ],
      "metadata": {
        "id": "gaxSX63iGtRw"
      },
      "execution_count": 14,
      "outputs": []
    },
    {
      "cell_type": "code",
      "source": [
        "predictions = cvModel.transform(test_data)\n",
        "evaluator = MulticlassClassificationEvaluator(labelCol=\"indexedLabel\", predictionCol=\"prediction\")\n",
        "accuracy = evaluator.evaluate(predictions, {evaluator.metricName: \"accuracy\"})\n",
        "precision = evaluator.evaluate(predictions, {evaluator.metricName: \"weightedPrecision\"})\n",
        "recall = evaluator.evaluate(predictions, {evaluator.metricName: \"weightedRecall\"})\n",
        "f1 = evaluator.evaluate(predictions, {evaluator.metricName: \"f1\"})"
      ],
      "metadata": {
        "id": "vjpdYIVwGtOf"
      },
      "execution_count": 15,
      "outputs": []
    },
    {
      "cell_type": "code",
      "source": [
        "print(f\"Accuracy: {accuracy}\")\n",
        "print(f\"Precision: {precision}\")\n",
        "print(f\"Recall: {recall}\")\n",
        "print(f\"F1 Score: {f1}\")"
      ],
      "metadata": {
        "colab": {
          "base_uri": "https://localhost:8080/"
        },
        "id": "JTrTikFZGtHd",
        "outputId": "08c5da50-f420-4d5a-8cb0-e390f5720f2d"
      },
      "execution_count": 16,
      "outputs": [
        {
          "output_type": "stream",
          "name": "stdout",
          "text": [
            "Accuracy: 0.9459459459459459\n",
            "Precision: 0.9536679536679536\n",
            "Recall: 0.9459459459459459\n",
            "F1 Score: 0.9453222453222453\n"
          ]
        }
      ]
    },
    {
      "cell_type": "code",
      "source": [
        "predictions.select(\"indexedLabel\", \"prediction\").show()\n"
      ],
      "metadata": {
        "colab": {
          "base_uri": "https://localhost:8080/"
        },
        "id": "FiSvWeNIGs_g",
        "outputId": "87d7cd5e-ddb7-4d42-a246-2d8801e2ed4e"
      },
      "execution_count": 17,
      "outputs": [
        {
          "output_type": "stream",
          "name": "stdout",
          "text": [
            "+------------+----------+\n",
            "|indexedLabel|prediction|\n",
            "+------------+----------+\n",
            "|         0.0|       0.0|\n",
            "|         0.0|       0.0|\n",
            "|         0.0|       0.0|\n",
            "|         0.0|       0.0|\n",
            "|         0.0|       0.0|\n",
            "|         0.0|       0.0|\n",
            "|         0.0|       0.0|\n",
            "|         0.0|       0.0|\n",
            "|         0.0|       0.0|\n",
            "|         0.0|       0.0|\n",
            "|         1.0|       1.0|\n",
            "|         1.0|       1.0|\n",
            "|         0.0|       0.0|\n",
            "|         0.0|       0.0|\n",
            "|         1.0|       1.0|\n",
            "|         1.0|       1.0|\n",
            "|         0.0|       0.0|\n",
            "|         0.0|       0.0|\n",
            "|         2.0|       2.0|\n",
            "|         2.0|       1.0|\n",
            "+------------+----------+\n",
            "only showing top 20 rows\n",
            "\n"
          ]
        }
      ]
    },
    {
      "cell_type": "code",
      "source": [
        "confusion_matrix = predictions.groupBy(\"indexedLabel\").pivot(\"prediction\").count().fillna(0).orderBy(\"indexedLabel\")\n",
        "confusion_matrix.show()"
      ],
      "metadata": {
        "colab": {
          "base_uri": "https://localhost:8080/"
        },
        "id": "3HFwhNgw6JoA",
        "outputId": "4640e073-3e9f-4ed5-b228-cafc34c56b7a"
      },
      "execution_count": 18,
      "outputs": [
        {
          "output_type": "stream",
          "name": "stdout",
          "text": [
            "+------------+---+---+---+\n",
            "|indexedLabel|0.0|1.0|2.0|\n",
            "+------------+---+---+---+\n",
            "|         0.0| 14|  0|  0|\n",
            "|         1.0|  0| 12|  0|\n",
            "|         2.0|  0|  2|  9|\n",
            "+------------+---+---+---+\n",
            "\n"
          ]
        }
      ]
    },
    {
      "cell_type": "code",
      "source": [
        "best_model = cvModel.bestModel\n",
        "feature_importances = best_model.featureImportances"
      ],
      "metadata": {
        "id": "HEfitw3uQUll"
      },
      "execution_count": 19,
      "outputs": []
    },
    {
      "cell_type": "code",
      "source": [
        "features_list = data.columns[:-2]  # Exclude 'features' and 'indexedLabel'\n",
        "feature_importances_df = pd.DataFrame(list(zip(features_list, feature_importances)),\n",
        "                                      columns=[\"Feature\", \"Importance\"]).sort_values(by=\"Importance\", ascending=False)\n",
        "print(feature_importances_df)"
      ],
      "metadata": {
        "colab": {
          "base_uri": "https://localhost:8080/"
        },
        "id": "WMxJH__KQUiL",
        "outputId": "2a09af6a-ca4d-4f6e-e58f-e0aeece9d73b"
      },
      "execution_count": 20,
      "outputs": [
        {
          "output_type": "stream",
          "name": "stdout",
          "text": [
            "             Feature  Importance\n",
            "3   petal width (cm)    0.483776\n",
            "2  petal length (cm)    0.425581\n",
            "0  sepal length (cm)    0.080226\n",
            "1   sepal width (cm)    0.010417\n"
          ]
        }
      ]
    },
    {
      "cell_type": "code",
      "source": [
        "predictions_pd = predictions.select(\"indexedLabel\", \"prediction\").toPandas()"
      ],
      "metadata": {
        "id": "tAOLTdaeQUey"
      },
      "execution_count": 21,
      "outputs": []
    },
    {
      "cell_type": "code",
      "source": [
        "print(classification_report(predictions_pd[\"indexedLabel\"], predictions_pd[\"prediction\"]))"
      ],
      "metadata": {
        "colab": {
          "base_uri": "https://localhost:8080/"
        },
        "id": "IkccqgxBQUb4",
        "outputId": "fc713d88-c780-41e3-cfbc-bab2a08b706a"
      },
      "execution_count": 22,
      "outputs": [
        {
          "output_type": "stream",
          "name": "stdout",
          "text": [
            "              precision    recall  f1-score   support\n",
            "\n",
            "         0.0       1.00      1.00      1.00        14\n",
            "         1.0       0.86      1.00      0.92        12\n",
            "         2.0       1.00      0.82      0.90        11\n",
            "\n",
            "    accuracy                           0.95        37\n",
            "   macro avg       0.95      0.94      0.94        37\n",
            "weighted avg       0.95      0.95      0.95        37\n",
            "\n"
          ]
        }
      ]
    },
    {
      "source": [
        "from sklearn.metrics import confusion_matrix # import the function\n",
        "\n",
        "# rename the DataFrame variable\n",
        "conf_matrix_df = confusion_matrix(predictions_pd[\"indexedLabel\"], predictions_pd[\"prediction\"])\n",
        "sns.heatmap(conf_matrix_df, annot=True, fmt='d', cmap='Blues')\n",
        "plt.xlabel('Predicted')\n",
        "plt.ylabel('Actual')\n",
        "plt.title('Confusion Matrix')\n",
        "plt.show()"
      ],
      "cell_type": "code",
      "metadata": {
        "colab": {
          "base_uri": "https://localhost:8080/",
          "height": 472
        },
        "id": "yMIDvo289q8Q",
        "outputId": "f25ee3cc-0caf-4d73-810d-0f74c8b15033"
      },
      "execution_count": 25,
      "outputs": [
        {
          "output_type": "display_data",
          "data": {
            "text/plain": [
              "<Figure size 640x480 with 2 Axes>"
            ],
            "image/png": "[encoded data removed]"
          },
          "metadata": {}
        }
      ]
    },
    {
      "cell_type": "code",
      "source": [
        "plt.figure(figsize=(10, 6))\n",
        "sns.barplot(x=\"Importance\", y=\"Feature\", data=feature_importances_df)\n",
        "plt.title('Feature Importances')\n",
        "plt.show()"
      ],
      "metadata": {
        "colab": {
          "base_uri": "https://localhost:8080/",
          "height": 381
        },
        "id": "UuMUhfVKQUVK",
        "outputId": "9d5f9e91-aaba-400d-b52f-2a9bda86aaae"
      },
      "execution_count": 26,
      "outputs": [
        {
          "output_type": "display_data",
          "data": {
            "text/plain": [
              "<Figure size 1000x600 with 1 Axes>"
            ],
            "image/png": "[encoded data removed]"
          },
          "metadata": {}
        }
      ]
    },
    {
      "cell_type": "code",
      "source": [
        "cv_results = cvModel.avgMetrics\n",
        "param_maps = cvModel.getEstimatorParamMaps()\n",
        "param_tuning_df = pd.DataFrame([{**param, \"Accuracy\": metric} for param, metric in zip(param_maps, cv_results)])\n",
        "print(param_tuning_df)"
      ],
      "metadata": {
        "colab": {
          "base_uri": "https://localhost:8080/"
        },
        "id": "ncojs9NwQUHk",
        "outputId": "70d28833-fafe-4ae6-f1fb-ad22f5a497df"
      },
      "execution_count": 27,
      "outputs": [
        {
          "output_type": "stream",
          "name": "stdout",
          "text": [
            "   RandomForestClassifier_7887215465ec__numTrees  \\\n",
            "0                                             10   \n",
            "1                                             10   \n",
            "2                                             10   \n",
            "3                                             20   \n",
            "4                                             20   \n",
            "5                                             20   \n",
            "6                                             30   \n",
            "7                                             30   \n",
            "8                                             30   \n",
            "\n",
            "   RandomForestClassifier_7887215465ec__maxDepth  Accuracy  \n",
            "0                                              5  0.931701  \n",
            "1                                             10  0.931701  \n",
            "2                                             15  0.931701  \n",
            "3                                              5  0.947574  \n",
            "4                                             10  0.957378  \n",
            "5                                             15  0.957378  \n",
            "6                                              5  0.965314  \n",
            "7                                             10  0.965314  \n",
            "8                                             15  0.965314  \n"
          ]
        }
      ]
    },
    {
      "cell_type": "code",
      "source": [
        "misclassified = predictions_pd[predictions_pd[\"indexedLabel\"] != predictions_pd[\"prediction\"]]\n",
        "print(\"Misclassified examples:\")\n",
        "print(misclassified)"
      ],
      "metadata": {
        "colab": {
          "base_uri": "https://localhost:8080/"
        },
        "id": "FypJzeA6RhPh",
        "outputId": "295cf1b8-ae03-4b7a-fbac-ffa72a9eaf66"
      },
      "execution_count": 28,
      "outputs": [
        {
          "output_type": "stream",
          "name": "stdout",
          "text": [
            "Misclassified examples:\n",
            "    indexedLabel  prediction\n",
            "19           2.0         1.0\n",
            "21           2.0         1.0\n"
          ]
        }
      ]
    },
    {
      "cell_type": "code",
      "source": [
        "data_pd = data.select(data.columns[:-2] + [\"indexedLabel\"]).toPandas()\n",
        "data.show()"
      ],
      "metadata": {
        "colab": {
          "base_uri": "https://localhost:8080/"
        },
        "id": "f3_FuugKRhL6",
        "outputId": "c8feccc2-2488-4245-816a-daa6e8a0b0c9"
      },
      "execution_count": 29,
      "outputs": [
        {
          "output_type": "stream",
          "name": "stdout",
          "text": [
            "+-----------------+----------------+-----------------+----------------+-----+-----------------+------------+\n",
            "|sepal length (cm)|sepal width (cm)|petal length (cm)|petal width (cm)|label|         features|indexedLabel|\n",
            "+-----------------+----------------+-----------------+----------------+-----+-----------------+------------+\n",
            "|              5.1|             3.5|              1.4|             0.2|    0|[5.1,3.5,1.4,0.2]|         0.0|\n",
            "|              4.9|             3.0|              1.4|             0.2|    0|[4.9,3.0,1.4,0.2]|         0.0|\n",
            "|              4.7|             3.2|              1.3|             0.2|    0|[4.7,3.2,1.3,0.2]|         0.0|\n",
            "|              4.6|             3.1|              1.5|             0.2|    0|[4.6,3.1,1.5,0.2]|         0.0|\n",
            "|              5.0|             3.6|              1.4|             0.2|    0|[5.0,3.6,1.4,0.2]|         0.0|\n",
            "|              5.4|             3.9|              1.7|             0.4|    0|[5.4,3.9,1.7,0.4]|         0.0|\n",
            "|              4.6|             3.4|              1.4|             0.3|    0|[4.6,3.4,1.4,0.3]|         0.0|\n",
            "|              5.0|             3.4|              1.5|             0.2|    0|[5.0,3.4,1.5,0.2]|         0.0|\n",
            "|              4.4|             2.9|              1.4|             0.2|    0|[4.4,2.9,1.4,0.2]|         0.0|\n",
            "|              4.9|             3.1|              1.5|             0.1|    0|[4.9,3.1,1.5,0.1]|         0.0|\n",
            "|              5.4|             3.7|              1.5|             0.2|    0|[5.4,3.7,1.5,0.2]|         0.0|\n",
            "|              4.8|             3.4|              1.6|             0.2|    0|[4.8,3.4,1.6,0.2]|         0.0|\n",
            "|              4.8|             3.0|              1.4|             0.1|    0|[4.8,3.0,1.4,0.1]|         0.0|\n",
            "|              4.3|             3.0|              1.1|             0.1|    0|[4.3,3.0,1.1,0.1]|         0.0|\n",
            "|              5.8|             4.0|              1.2|             0.2|    0|[5.8,4.0,1.2,0.2]|         0.0|\n",
            "|              5.7|             4.4|              1.5|             0.4|    0|[5.7,4.4,1.5,0.4]|         0.0|\n",
            "|              5.4|             3.9|              1.3|             0.4|    0|[5.4,3.9,1.3,0.4]|         0.0|\n",
            "|              5.1|             3.5|              1.4|             0.3|    0|[5.1,3.5,1.4,0.3]|         0.0|\n",
            "|              5.7|             3.8|              1.7|             0.3|    0|[5.7,3.8,1.7,0.3]|         0.0|\n",
            "|              5.1|             3.8|              1.5|             0.3|    0|[5.1,3.8,1.5,0.3]|         0.0|\n",
            "+-----------------+----------------+-----------------+----------------+-----+-----------------+------------+\n",
            "only showing top 20 rows\n",
            "\n"
          ]
        }
      ]
    },
    {
      "source": [
        "import numpy as np\n",
        "from sklearn.ensemble import RandomForestClassifier\n",
        "from sklearn.model_selection import learning_curve\n",
        "\n",
        "\n",
        "X = data_pd[features_list]\n",
        "y = data_pd[\"indexedLabel\"]\n",
        "\n",
        "print(\"Shape of X:\", X.shape)\n",
        "print(\"Shape of y:\", y.shape)\n",
        "print(\"Unique values in y:\", np.unique(y))\n",
        "\n",
        "train_sizes, train_scores, valid_scores = learning_curve(\n",
        "    RandomForestClassifier(), X, y, cv=5, n_jobs=-1,\n",
        "    train_sizes=np.linspace(0.1, 1.0, 10), scoring='accuracy'\n",
        ")\n",
        "\n",
        "print(\"Train sizes:\", train_sizes)\n",
        "print(\"Train scores:\", train_scores)\n",
        "print(\"Validation scores:\", valid_scores)"
      ],
      "cell_type": "code",
      "metadata": {
        "colab": {
          "base_uri": "https://localhost:8080/"
        },
        "id": "zfWgg70K-i28",
        "outputId": "1f3bd671-fb40-4920-d065-76c6ed0d7cb4"
      },
      "execution_count": 34,
      "outputs": [
        {
          "output_type": "stream",
          "name": "stdout",
          "text": [
            "Shape of X: (150, 5)\n",
            "Shape of y: (150,)\n",
            "Unique values in y: [0. 1. 2.]\n",
            "Train sizes: [ 12  24  36  48  60  72  84  96 108 120]\n",
            "Train scores: [[1. 1. 1. 1. 1.]\n",
            " [1. 1. 1. 1. 1.]\n",
            " [1. 1. 1. 1. 1.]\n",
            " [1. 1. 1. 1. 1.]\n",
            " [1. 1. 1. 1. 1.]\n",
            " [1. 1. 1. 1. 1.]\n",
            " [1. 1. 1. 1. 1.]\n",
            " [1. 1. 1. 1. 1.]\n",
            " [1. 1. 1. 1. 1.]\n",
            " [1. 1. 1. 1. 1.]]\n",
            "Validation scores: [[0.33333333 0.33333333 0.33333333 0.33333333 0.33333333]\n",
            " [0.33333333 0.33333333 0.33333333 0.33333333 0.33333333]\n",
            " [0.33333333 0.33333333 0.33333333 0.33333333 0.33333333]\n",
            " [0.66666667 0.66666667 0.66666667 0.66666667 0.66666667]\n",
            " [0.66666667 0.66666667 0.66666667 0.66666667 0.66666667]\n",
            " [0.66666667 0.66666667 0.66666667 0.66666667 0.66666667]\n",
            " [0.96666667 0.96666667 1.         0.96666667 1.        ]\n",
            " [1.         1.         0.96666667 1.         1.        ]\n",
            " [1.         1.         1.         1.         1.        ]\n",
            " [1.         1.         1.         1.         1.        ]]\n"
          ]
        }
      ]
    }
  ]
}