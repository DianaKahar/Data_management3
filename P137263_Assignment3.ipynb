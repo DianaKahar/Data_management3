{
  "nbformat": 4,
  "nbformat_minor": 0,
  "metadata": {
    "colab": {
      "provenance": [],
      "authorship_tag": "ABX9TyMWj/oLaDINnJnJOha5EEM2",
      "include_colab_link": true
    },
    "kernelspec": {
      "name": "python3",
      "display_name": "Python 3"
    },
    "language_info": {
      "name": "python"
    }
  },
  "cells": [
    {
      "cell_type": "markdown",
      "metadata": {
        "id": "view-in-github",
        "colab_type": "text"
      },
      "source": [
        "<a href=\"https://colab.research.google.com/github/DianaKahar/Data_management3/blob/main/P137263_Assignment3.ipynb\" target=\"_parent\"><img src=\"https://colab.research.google.com/assets/colab-badge.svg\" alt=\"Open In Colab\"/></a>"
      ]
    },
    {
      "cell_type": "markdown",
      "source": [
        "#**STQD6324 DATA MANAGEMENT**"
      ],
      "metadata": {
        "id": "PzmYHoAE7HwC"
      }
    },
    {
      "cell_type": "markdown",
      "source": [
        "**INTRODUCTION**\n",
        "\n",
        "Apache Spark is an open source computing system that provides an intergrated framework fro processing large scale data. Spark offers a wide range of machine learning algorithm and tools designed to scale out data into a cluster. Spark MLlib is a core component of Spark and provides various advantages which include able to handle large dataset by distribution across a cluster (scalibility), able to be ingreted with Sparks other components for data manilulation and analysis, and having extensive functionality that includes broad range of ML algoritms and utilities like extractions, transformation and selection."
      ],
      "metadata": {
        "id": "yrc-ItRTWth3"
      }
    },
    {
      "cell_type": "markdown",
      "source": [
        "**IRIS DATASET INFORMATION**\n",
        "\n",
        "\n",
        "The iris dataset a.k.a Fishers Iris dataset is a popular dataset found within R environment and usually used in the field of machine learning and statistics. Also commonly used as a benchmark for testing ML algoritms and classification problems. The dataset consist of 150 samples of iris flowers from 3 different species; Iris Setosa, Iris Versicolor and Iris Virginica. Each sample consists of 4 features that describe the physical characteristic of the flower; Sepal Length (cm), Sepal Width (cm), Petal Length (cm) and Petal Width (cm). The dataset also includes the label which indicates the species of each flower. The labels are in numerical values; Iris Setosa (0), Iris Versicolor (1) and Iris Virginica (2). The iris dataset is a best choice for exhibiting classification with Spark MLlib because of its simplicity and structure."
      ],
      "metadata": {
        "id": "QXTQfKxJxnH9"
      }
    },
    {
      "cell_type": "markdown",
      "source": [
        "**CLASSIFICATION PROCESS**\n",
        "\n",
        "1. Import all necessary libraries and install a Spark session.\n",
        "2. Load the Iris dataset into a Spark Dataframe.\n",
        "3. Combine the featured columns int vector and encodes the labels.\n",
        "4. Split the data into training and testing sets.\n",
        "5. Use Random Forest classifier and set up a parameter grid for hypermeter tuning then use cross validation to find best model.\n",
        "6. Evaluate the model using accuracy, precision, recall and F1 score metrics.\n",
        "7. Compare predictiod labels with actual labels and display a confusion matrix.\n"
      ],
      "metadata": {
        "id": "HQvssJpa1DmB"
      }
    },
    {
      "cell_type": "code",
      "source": [
        "pip install pyspark"
      ],
      "metadata": {
        "colab": {
          "base_uri": "https://localhost:8080/"
        },
        "id": "_VZ5mLCvDW0Z",
        "outputId": "7aa6670c-f24b-4994-a94c-52077e00bc36"
      },
      "execution_count": 2,
      "outputs": [
        {
          "output_type": "stream",
          "name": "stdout",
          "text": [
            "Collecting pyspark\n",
            "  Downloading pyspark-3.5.1.tar.gz (317.0 MB)\n",
            "\u001b[2K     \u001b[90m━━━━━━━━━━━━━━━━━━━━━━━━━━━━━━━━━━━━━━━━\u001b[0m \u001b[32m317.0/317.0 MB\u001b[0m \u001b[31m1.7 MB/s\u001b[0m eta \u001b[36m0:00:00\u001b[0m\n",
            "\u001b[?25h  Preparing metadata (setup.py) ... \u001b[?25l\u001b[?25hdone\n",
            "Requirement already satisfied: py4j==0.10.9.7 in /usr/local/lib/python3.10/dist-packages (from pyspark) (0.10.9.7)\n",
            "Building wheels for collected packages: pyspark\n",
            "  Building wheel for pyspark (setup.py) ... \u001b[?25l\u001b[?25hdone\n",
            "  Created wheel for pyspark: filename=pyspark-3.5.1-py2.py3-none-any.whl size=317488491 sha256=7d6ae276c1a8f1f294ecf18c730da224e7024fa610a75d56b06b88d10db2dac7\n",
            "  Stored in directory: /root/.cache/pip/wheels/80/1d/60/2c256ed38dddce2fdd93be545214a63e02fbd8d74fb0b7f3a6\n",
            "Successfully built pyspark\n",
            "Installing collected packages: pyspark\n",
            "Successfully installed pyspark-3.5.1\n"
          ]
        }
      ]
    },
    {
      "cell_type": "code",
      "source": [
        "import pandas as pd\n",
        "\n",
        "from sklearn.datasets import load_iris\n",
        "from pyspark.sql import SparkSession\n",
        "from pyspark.ml.feature import VectorAssembler, StringIndexer\n",
        "from pyspark.ml.classification import RandomForestClassifier\n",
        "from pyspark.ml.evaluation import MulticlassClassificationEvaluator\n",
        "from pyspark.ml.tuning import CrossValidator, ParamGridBuilder\n",
        "from sklearn.metrics import classification_report\n",
        "import matplotlib.pyplot as plt\n",
        "import seaborn as sns\n",
        "from sklearn.metrics import confusion_matrix\n",
        "from sklearn.model_selection import learning_curve\n",
        "import numpy as np"
      ],
      "metadata": {
        "id": "SoQgwzyc6JLe"
      },
      "execution_count": 3,
      "outputs": []
    },
    {
      "cell_type": "code",
      "source": [
        "iris = load_iris()\n",
        "iris_df = pd.DataFrame(data=iris.data, columns=iris.feature_names)\n",
        "iris_df['label'] = iris.target"
      ],
      "metadata": {
        "id": "PwP8Ttn66JOZ"
      },
      "execution_count": 4,
      "outputs": []
    },
    {
      "cell_type": "code",
      "source": [
        "iris_df.to_csv('iris.csv', index=False)"
      ],
      "metadata": {
        "id": "YeRdHkS-6JRy"
      },
      "execution_count": 5,
      "outputs": []
    },
    {
      "cell_type": "code",
      "source": [
        "spark = SparkSession.builder.appName(\"IrisClassification\").getOrCreate()"
      ],
      "metadata": {
        "id": "CD_KZt8A6JYC"
      },
      "execution_count": 6,
      "outputs": []
    },
    {
      "cell_type": "code",
      "source": [
        "data = spark.read.csv('iris.csv', header=True, inferSchema=True)\n",
        "data.show()"
      ],
      "metadata": {
        "colab": {
          "base_uri": "https://localhost:8080/"
        },
        "id": "4f6xmZRv6JbM",
        "outputId": "7744f506-a114-4235-94a9-c457d4899cea"
      },
      "execution_count": 7,
      "outputs": [
        {
          "output_type": "stream",
          "name": "stdout",
          "text": [
            "+-----------------+----------------+-----------------+----------------+-----+\n",
            "|sepal length (cm)|sepal width (cm)|petal length (cm)|petal width (cm)|label|\n",
            "+-----------------+----------------+-----------------+----------------+-----+\n",
            "|              5.1|             3.5|              1.4|             0.2|    0|\n",
            "|              4.9|             3.0|              1.4|             0.2|    0|\n",
            "|              4.7|             3.2|              1.3|             0.2|    0|\n",
            "|              4.6|             3.1|              1.5|             0.2|    0|\n",
            "|              5.0|             3.6|              1.4|             0.2|    0|\n",
            "|              5.4|             3.9|              1.7|             0.4|    0|\n",
            "|              4.6|             3.4|              1.4|             0.3|    0|\n",
            "|              5.0|             3.4|              1.5|             0.2|    0|\n",
            "|              4.4|             2.9|              1.4|             0.2|    0|\n",
            "|              4.9|             3.1|              1.5|             0.1|    0|\n",
            "|              5.4|             3.7|              1.5|             0.2|    0|\n",
            "|              4.8|             3.4|              1.6|             0.2|    0|\n",
            "|              4.8|             3.0|              1.4|             0.1|    0|\n",
            "|              4.3|             3.0|              1.1|             0.1|    0|\n",
            "|              5.8|             4.0|              1.2|             0.2|    0|\n",
            "|              5.7|             4.4|              1.5|             0.4|    0|\n",
            "|              5.4|             3.9|              1.3|             0.4|    0|\n",
            "|              5.1|             3.5|              1.4|             0.3|    0|\n",
            "|              5.7|             3.8|              1.7|             0.3|    0|\n",
            "|              5.1|             3.8|              1.5|             0.3|    0|\n",
            "+-----------------+----------------+-----------------+----------------+-----+\n",
            "only showing top 20 rows\n",
            "\n"
          ]
        }
      ]
    },
    {
      "cell_type": "code",
      "source": [
        "assembler = VectorAssembler(inputCols=iris.feature_names, outputCol=\"features\")\n",
        "data = assembler.transform(data)"
      ],
      "metadata": {
        "id": "PQREG12S6JeU"
      },
      "execution_count": 8,
      "outputs": []
    },
    {
      "cell_type": "code",
      "source": [
        "indexer = StringIndexer(inputCol=\"label\", outputCol=\"indexedLabel\")\n",
        "data = indexer.fit(data).transform(data)\n",
        "data.show()"
      ],
      "metadata": {
        "colab": {
          "base_uri": "https://localhost:8080/"
        },
        "id": "n8UYhN6p6Jhc",
        "outputId": "43e28051-17e8-4e7d-b67a-9e56347f1c87"
      },
      "execution_count": 9,
      "outputs": [
        {
          "output_type": "stream",
          "name": "stdout",
          "text": [
            "+-----------------+----------------+-----------------+----------------+-----+-----------------+------------+\n",
            "|sepal length (cm)|sepal width (cm)|petal length (cm)|petal width (cm)|label|         features|indexedLabel|\n",
            "+-----------------+----------------+-----------------+----------------+-----+-----------------+------------+\n",
            "|              5.1|             3.5|              1.4|             0.2|    0|[5.1,3.5,1.4,0.2]|         0.0|\n",
            "|              4.9|             3.0|              1.4|             0.2|    0|[4.9,3.0,1.4,0.2]|         0.0|\n",
            "|              4.7|             3.2|              1.3|             0.2|    0|[4.7,3.2,1.3,0.2]|         0.0|\n",
            "|              4.6|             3.1|              1.5|             0.2|    0|[4.6,3.1,1.5,0.2]|         0.0|\n",
            "|              5.0|             3.6|              1.4|             0.2|    0|[5.0,3.6,1.4,0.2]|         0.0|\n",
            "|              5.4|             3.9|              1.7|             0.4|    0|[5.4,3.9,1.7,0.4]|         0.0|\n",
            "|              4.6|             3.4|              1.4|             0.3|    0|[4.6,3.4,1.4,0.3]|         0.0|\n",
            "|              5.0|             3.4|              1.5|             0.2|    0|[5.0,3.4,1.5,0.2]|         0.0|\n",
            "|              4.4|             2.9|              1.4|             0.2|    0|[4.4,2.9,1.4,0.2]|         0.0|\n",
            "|              4.9|             3.1|              1.5|             0.1|    0|[4.9,3.1,1.5,0.1]|         0.0|\n",
            "|              5.4|             3.7|              1.5|             0.2|    0|[5.4,3.7,1.5,0.2]|         0.0|\n",
            "|              4.8|             3.4|              1.6|             0.2|    0|[4.8,3.4,1.6,0.2]|         0.0|\n",
            "|              4.8|             3.0|              1.4|             0.1|    0|[4.8,3.0,1.4,0.1]|         0.0|\n",
            "|              4.3|             3.0|              1.1|             0.1|    0|[4.3,3.0,1.1,0.1]|         0.0|\n",
            "|              5.8|             4.0|              1.2|             0.2|    0|[5.8,4.0,1.2,0.2]|         0.0|\n",
            "|              5.7|             4.4|              1.5|             0.4|    0|[5.7,4.4,1.5,0.4]|         0.0|\n",
            "|              5.4|             3.9|              1.3|             0.4|    0|[5.4,3.9,1.3,0.4]|         0.0|\n",
            "|              5.1|             3.5|              1.4|             0.3|    0|[5.1,3.5,1.4,0.3]|         0.0|\n",
            "|              5.7|             3.8|              1.7|             0.3|    0|[5.7,3.8,1.7,0.3]|         0.0|\n",
            "|              5.1|             3.8|              1.5|             0.3|    0|[5.1,3.8,1.5,0.3]|         0.0|\n",
            "+-----------------+----------------+-----------------+----------------+-----+-----------------+------------+\n",
            "only showing top 20 rows\n",
            "\n"
          ]
        }
      ]
    },
    {
      "cell_type": "code",
      "source": [
        "train_data, test_data = data.randomSplit([0.8, 0.2], seed=1234)"
      ],
      "metadata": {
        "id": "B0LDHZuo6Jk1"
      },
      "execution_count": 10,
      "outputs": []
    },
    {
      "cell_type": "code",
      "source": [
        "rf = RandomForestClassifier(labelCol=\"indexedLabel\", featuresCol=\"features\")"
      ],
      "metadata": {
        "id": "UBqDa2okGtb2"
      },
      "execution_count": 11,
      "outputs": []
    },
    {
      "cell_type": "code",
      "source": [
        "paramGrid = ParamGridBuilder() \\\n",
        "    .addGrid(rf.numTrees, [10, 20, 30]) \\\n",
        "    .addGrid(rf.maxDepth, [5, 10, 15]) \\\n",
        "    .build()"
      ],
      "metadata": {
        "id": "uhJfu_f-GtYH"
      },
      "execution_count": 12,
      "outputs": []
    },
    {
      "cell_type": "code",
      "source": [
        "crossval = CrossValidator(estimator=rf,\n",
        "                          estimatorParamMaps=paramGrid,\n",
        "                          evaluator=MulticlassClassificationEvaluator(labelCol=\"indexedLabel\", metricName=\"accuracy\"),\n",
        "                          numFolds=3)"
      ],
      "metadata": {
        "id": "G8SgJ0OCGtU0"
      },
      "execution_count": 13,
      "outputs": []
    },
    {
      "cell_type": "code",
      "source": [
        "cvModel = crossval.fit(train_data)"
      ],
      "metadata": {
        "id": "gaxSX63iGtRw"
      },
      "execution_count": 14,
      "outputs": []
    },
    {
      "cell_type": "code",
      "source": [
        "predictions = cvModel.transform(test_data)\n",
        "evaluator = MulticlassClassificationEvaluator(labelCol=\"indexedLabel\", predictionCol=\"prediction\")\n",
        "accuracy = evaluator.evaluate(predictions, {evaluator.metricName: \"accuracy\"})\n",
        "precision = evaluator.evaluate(predictions, {evaluator.metricName: \"weightedPrecision\"})\n",
        "recall = evaluator.evaluate(predictions, {evaluator.metricName: \"weightedRecall\"})\n",
        "f1 = evaluator.evaluate(predictions, {evaluator.metricName: \"f1\"})"
      ],
      "metadata": {
        "id": "vjpdYIVwGtOf"
      },
      "execution_count": 15,
      "outputs": []
    },
    {
      "cell_type": "code",
      "source": [
        "print(f\"Accuracy: {accuracy}\")\n",
        "print(f\"Precision: {precision}\")\n",
        "print(f\"Recall: {recall}\")\n",
        "print(f\"F1 Score: {f1}\")"
      ],
      "metadata": {
        "colab": {
          "base_uri": "https://localhost:8080/"
        },
        "id": "JTrTikFZGtHd",
        "outputId": "9881ecbe-2f37-43b9-998d-90a8daf8b8d3"
      },
      "execution_count": 16,
      "outputs": [
        {
          "output_type": "stream",
          "name": "stdout",
          "text": [
            "Accuracy: 0.972972972972973\n",
            "Precision: 0.9750519750519752\n",
            "Recall: 0.972972972972973\n",
            "F1 Score: 0.972870012870013\n"
          ]
        }
      ]
    },
    {
      "cell_type": "markdown",
      "source": [
        "From the result shown the classification model performed excellently on the dataset. High values across al matrics suggest that the model can reliably predict the species of iris with a high degress of accuracy, precision, recall and balanced F1 score."
      ],
      "metadata": {
        "id": "nXC2zZH-4FnC"
      }
    },
    {
      "cell_type": "code",
      "source": [
        "predictions.select(\"indexedLabel\", \"prediction\").show()\n"
      ],
      "metadata": {
        "colab": {
          "base_uri": "https://localhost:8080/"
        },
        "id": "FiSvWeNIGs_g",
        "outputId": "7536fb04-8482-4ff4-f0e0-31a6dfde1696"
      },
      "execution_count": 17,
      "outputs": [
        {
          "output_type": "stream",
          "name": "stdout",
          "text": [
            "+------------+----------+\n",
            "|indexedLabel|prediction|\n",
            "+------------+----------+\n",
            "|         0.0|       0.0|\n",
            "|         0.0|       0.0|\n",
            "|         0.0|       0.0|\n",
            "|         0.0|       0.0|\n",
            "|         0.0|       0.0|\n",
            "|         0.0|       0.0|\n",
            "|         0.0|       0.0|\n",
            "|         0.0|       0.0|\n",
            "|         0.0|       0.0|\n",
            "|         0.0|       0.0|\n",
            "|         1.0|       1.0|\n",
            "|         1.0|       1.0|\n",
            "|         0.0|       0.0|\n",
            "|         0.0|       0.0|\n",
            "|         1.0|       1.0|\n",
            "|         1.0|       1.0|\n",
            "|         0.0|       0.0|\n",
            "|         0.0|       0.0|\n",
            "|         2.0|       2.0|\n",
            "|         2.0|       1.0|\n",
            "+------------+----------+\n",
            "only showing top 20 rows\n",
            "\n"
          ]
        }
      ]
    },
    {
      "cell_type": "markdown",
      "source": [
        "The table above provides illustartion of the models performance, showing accuracy with a few missclassifications. From the 20 rows showing, only 1 was missclassified, which shows high accuracy at 97.3%. The misclassification indicates that the model had difficulty in distingushing between virginica and versicolor. Further analysis can be done on the error analysis to gain a deeper understanding and model improve performance."
      ],
      "metadata": {
        "id": "j0qnOdzc5MsG"
      }
    },
    {
      "cell_type": "code",
      "source": [
        "confusion_matrix = predictions.groupBy(\"indexedLabel\").pivot(\"prediction\").count().fillna(0).orderBy(\"indexedLabel\")\n",
        "confusion_matrix.show()"
      ],
      "metadata": {
        "colab": {
          "base_uri": "https://localhost:8080/"
        },
        "id": "3HFwhNgw6JoA",
        "outputId": "72b3bc2e-b419-4371-9b05-ac758dbe3061"
      },
      "execution_count": 18,
      "outputs": [
        {
          "output_type": "stream",
          "name": "stdout",
          "text": [
            "+------------+---+---+---+\n",
            "|indexedLabel|0.0|1.0|2.0|\n",
            "+------------+---+---+---+\n",
            "|         0.0| 14|  0|  0|\n",
            "|         1.0|  0| 12|  0|\n",
            "|         2.0|  0|  1| 10|\n",
            "+------------+---+---+---+\n",
            "\n"
          ]
        }
      ]
    },
    {
      "cell_type": "markdown",
      "source": [
        "From the confusion matrix table we are able to understand that the actual class is within the indexlabel and each column is the predicted class. Iris setosa (0.0) was predicted 14 times correctly, Iris versicolor (1.0) was predicted 12 times correctly, while Iris virginica (2.0) was predicted 10 times correctly and 1 time incorrectly. This indicated only a small error."
      ],
      "metadata": {
        "id": "jgOzla8TBEcD"
      }
    },
    {
      "cell_type": "code",
      "source": [
        "best_model = cvModel.bestModel\n",
        "feature_importances = best_model.featureImportances"
      ],
      "metadata": {
        "id": "HEfitw3uQUll"
      },
      "execution_count": 19,
      "outputs": []
    },
    {
      "cell_type": "code",
      "source": [
        "features_list = data.columns[:-2]  # Exclude 'features' and 'indexedLabel'\n",
        "feature_importances_df = pd.DataFrame(list(zip(features_list, feature_importances)),\n",
        "                                      columns=[\"Feature\", \"Importance\"]).sort_values(by=\"Importance\", ascending=False)\n",
        "print(feature_importances_df)"
      ],
      "metadata": {
        "colab": {
          "base_uri": "https://localhost:8080/"
        },
        "id": "WMxJH__KQUiL",
        "outputId": "3e090050-c41c-43a7-c60f-567652b32da9"
      },
      "execution_count": 20,
      "outputs": [
        {
          "output_type": "stream",
          "name": "stdout",
          "text": [
            "             Feature  Importance\n",
            "3   petal width (cm)    0.621713\n",
            "2  petal length (cm)    0.236700\n",
            "0  sepal length (cm)    0.101994\n",
            "1   sepal width (cm)    0.039593\n"
          ]
        }
      ]
    },
    {
      "cell_type": "markdown",
      "source": [
        "The table above shows the feature importance scores for Random Forest classifier. It determines how valuable each feature contributes to reducing the impurity in the decision trees. The more a feature reduces impurity, the more important it is considered. Petal width has the highest important score with 0.621713 which suggest that it is the main classifier for any iris species. The model relies most on this feature to make correct predictions. Petal length is also significant but less important than petal width. Sepal length has a lower feature importance score, however sepal width has the lower importabce score which suggest it has the least amount of impact on the classification decision made by the model."
      ],
      "metadata": {
        "id": "P1g20AmOC0Le"
      }
    },
    {
      "cell_type": "code",
      "source": [
        "predictions_pd = predictions.select(\"indexedLabel\", \"prediction\").toPandas()"
      ],
      "metadata": {
        "id": "tAOLTdaeQUey"
      },
      "execution_count": 21,
      "outputs": []
    },
    {
      "cell_type": "code",
      "source": [
        "print(classification_report(predictions_pd[\"indexedLabel\"], predictions_pd[\"prediction\"]))"
      ],
      "metadata": {
        "colab": {
          "base_uri": "https://localhost:8080/"
        },
        "id": "IkccqgxBQUb4",
        "outputId": "cdaf21b8-a515-4e8a-a598-13c5d53e92bd"
      },
      "execution_count": 22,
      "outputs": [
        {
          "output_type": "stream",
          "name": "stdout",
          "text": [
            "              precision    recall  f1-score   support\n",
            "\n",
            "         0.0       1.00      1.00      1.00        14\n",
            "         1.0       0.92      1.00      0.96        12\n",
            "         2.0       1.00      0.91      0.95        11\n",
            "\n",
            "    accuracy                           0.97        37\n",
            "   macro avg       0.97      0.97      0.97        37\n",
            "weighted avg       0.98      0.97      0.97        37\n",
            "\n"
          ]
        }
      ]
    },
    {
      "cell_type": "markdown",
      "source": [
        "This table shows the classification report for the Random Forest model on the dataset. The model shows high precision and recall for all classes which indicates that it is very effective at indetifying positive instance and minimizing false positives and false negatives. The model has also perfectly classified all instances on Iris setosa and only has a minor misclassification of iris virginica."
      ],
      "metadata": {
        "id": "7we7lERnFGUV"
      }
    },
    {
      "cell_type": "markdown",
      "source": [
        "**EXTRA INSIGHT**"
      ],
      "metadata": {
        "id": "_frbh1qmFR62"
      }
    },
    {
      "source": [
        "from sklearn.metrics import confusion_matrix # import the function\n",
        "\n",
        "# rename the DataFrame variable\n",
        "conf_matrix_df = confusion_matrix(predictions_pd[\"indexedLabel\"], predictions_pd[\"prediction\"])\n",
        "sns.heatmap(conf_matrix_df, annot=True, fmt='d', cmap='Blues')\n",
        "plt.xlabel('Predicted')\n",
        "plt.ylabel('Actual')\n",
        "plt.title('Confusion Matrix')\n",
        "plt.show()"
      ],
      "cell_type": "code",
      "metadata": {
        "colab": {
          "base_uri": "https://localhost:8080/",
          "height": 472
        },
        "id": "yMIDvo289q8Q",
        "outputId": "1e58a2d7-3e1d-4270-95dc-eb203973c00d"
      },
      "execution_count": 23,
      "outputs": [
        {
          "output_type": "display_data",
          "data": {
            "text/plain": [
              "<Figure size 640x480 with 2 Axes>"
            ],
            "image/png": "[encoded data removed]"
          },
          "metadata": {}
        }
      ]
    },
    {
      "cell_type": "code",
      "source": [
        "plt.figure(figsize=(10, 6))\n",
        "sns.barplot(x=\"Importance\", y=\"Feature\", data=feature_importances_df)\n",
        "plt.title('Feature Importances')\n",
        "plt.show()"
      ],
      "metadata": {
        "colab": {
          "base_uri": "https://localhost:8080/",
          "height": 381
        },
        "id": "UuMUhfVKQUVK",
        "outputId": "99d448aa-7f01-4a98-b536-543d71d1f04e"
      },
      "execution_count": 24,
      "outputs": [
        {
          "output_type": "display_data",
          "data": {
            "text/plain": [
              "<Figure size 1000x600 with 1 Axes>"
            ],
            "image/png": "[encoded data removed]"
          },
          "metadata": {}
        }
      ]
    },
    {
      "cell_type": "code",
      "source": [
        "cv_results = cvModel.avgMetrics\n",
        "param_maps = cvModel.getEstimatorParamMaps()\n",
        "param_tuning_df = pd.DataFrame([{**param, \"Accuracy\": metric} for param, metric in zip(param_maps, cv_results)])\n",
        "print(param_tuning_df)"
      ],
      "metadata": {
        "colab": {
          "base_uri": "https://localhost:8080/"
        },
        "id": "ncojs9NwQUHk",
        "outputId": "b21cce81-aa8d-49f2-8e3f-9a464b5aa78e"
      },
      "execution_count": 25,
      "outputs": [
        {
          "output_type": "stream",
          "name": "stdout",
          "text": [
            "   RandomForestClassifier_a12d61499b97__numTrees  \\\n",
            "0                                             10   \n",
            "1                                             10   \n",
            "2                                             10   \n",
            "3                                             20   \n",
            "4                                             20   \n",
            "5                                             20   \n",
            "6                                             30   \n",
            "7                                             30   \n",
            "8                                             30   \n",
            "\n",
            "   RandomForestClassifier_a12d61499b97__maxDepth  Accuracy  \n",
            "0                                              5  0.931698  \n",
            "1                                             10  0.931698  \n",
            "2                                             15  0.931698  \n",
            "3                                              5  0.924291  \n",
            "4                                             10  0.924291  \n",
            "5                                             15  0.924291  \n",
            "6                                              5  0.924291  \n",
            "7                                             10  0.924291  \n",
            "8                                             15  0.924291  \n"
          ]
        }
      ]
    },
    {
      "cell_type": "code",
      "source": [
        "misclassified = predictions_pd[predictions_pd[\"indexedLabel\"] != predictions_pd[\"prediction\"]]\n",
        "print(\"Misclassified examples:\")\n",
        "print(misclassified)"
      ],
      "metadata": {
        "colab": {
          "base_uri": "https://localhost:8080/"
        },
        "id": "FypJzeA6RhPh",
        "outputId": "c79f6d30-4b65-416c-aac7-f9403e6d827e"
      },
      "execution_count": 26,
      "outputs": [
        {
          "output_type": "stream",
          "name": "stdout",
          "text": [
            "Misclassified examples:\n",
            "    indexedLabel  prediction\n",
            "19           2.0         1.0\n"
          ]
        }
      ]
    },
    {
      "cell_type": "code",
      "source": [
        "data_pd = data.select(data.columns[:-2] + [\"indexedLabel\"]).toPandas()\n",
        "data.show()"
      ],
      "metadata": {
        "colab": {
          "base_uri": "https://localhost:8080/"
        },
        "id": "f3_FuugKRhL6",
        "outputId": "9a87ee99-de54-4641-8184-2dd1e1f40bc4"
      },
      "execution_count": 27,
      "outputs": [
        {
          "output_type": "stream",
          "name": "stdout",
          "text": [
            "+-----------------+----------------+-----------------+----------------+-----+-----------------+------------+\n",
            "|sepal length (cm)|sepal width (cm)|petal length (cm)|petal width (cm)|label|         features|indexedLabel|\n",
            "+-----------------+----------------+-----------------+----------------+-----+-----------------+------------+\n",
            "|              5.1|             3.5|              1.4|             0.2|    0|[5.1,3.5,1.4,0.2]|         0.0|\n",
            "|              4.9|             3.0|              1.4|             0.2|    0|[4.9,3.0,1.4,0.2]|         0.0|\n",
            "|              4.7|             3.2|              1.3|             0.2|    0|[4.7,3.2,1.3,0.2]|         0.0|\n",
            "|              4.6|             3.1|              1.5|             0.2|    0|[4.6,3.1,1.5,0.2]|         0.0|\n",
            "|              5.0|             3.6|              1.4|             0.2|    0|[5.0,3.6,1.4,0.2]|         0.0|\n",
            "|              5.4|             3.9|              1.7|             0.4|    0|[5.4,3.9,1.7,0.4]|         0.0|\n",
            "|              4.6|             3.4|              1.4|             0.3|    0|[4.6,3.4,1.4,0.3]|         0.0|\n",
            "|              5.0|             3.4|              1.5|             0.2|    0|[5.0,3.4,1.5,0.2]|         0.0|\n",
            "|              4.4|             2.9|              1.4|             0.2|    0|[4.4,2.9,1.4,0.2]|         0.0|\n",
            "|              4.9|             3.1|              1.5|             0.1|    0|[4.9,3.1,1.5,0.1]|         0.0|\n",
            "|              5.4|             3.7|              1.5|             0.2|    0|[5.4,3.7,1.5,0.2]|         0.0|\n",
            "|              4.8|             3.4|              1.6|             0.2|    0|[4.8,3.4,1.6,0.2]|         0.0|\n",
            "|              4.8|             3.0|              1.4|             0.1|    0|[4.8,3.0,1.4,0.1]|         0.0|\n",
            "|              4.3|             3.0|              1.1|             0.1|    0|[4.3,3.0,1.1,0.1]|         0.0|\n",
            "|              5.8|             4.0|              1.2|             0.2|    0|[5.8,4.0,1.2,0.2]|         0.0|\n",
            "|              5.7|             4.4|              1.5|             0.4|    0|[5.7,4.4,1.5,0.4]|         0.0|\n",
            "|              5.4|             3.9|              1.3|             0.4|    0|[5.4,3.9,1.3,0.4]|         0.0|\n",
            "|              5.1|             3.5|              1.4|             0.3|    0|[5.1,3.5,1.4,0.3]|         0.0|\n",
            "|              5.7|             3.8|              1.7|             0.3|    0|[5.7,3.8,1.7,0.3]|         0.0|\n",
            "|              5.1|             3.8|              1.5|             0.3|    0|[5.1,3.8,1.5,0.3]|         0.0|\n",
            "+-----------------+----------------+-----------------+----------------+-----+-----------------+------------+\n",
            "only showing top 20 rows\n",
            "\n"
          ]
        }
      ]
    },
    {
      "source": [
        "import numpy as np\n",
        "from sklearn.ensemble import RandomForestClassifier\n",
        "from sklearn.model_selection import learning_curve\n",
        "\n",
        "\n",
        "X = data_pd[features_list]\n",
        "y = data_pd[\"indexedLabel\"]\n",
        "\n",
        "print(\"Shape of X:\", X.shape)\n",
        "print(\"Shape of y:\", y.shape)\n",
        "print(\"Unique values in y:\", np.unique(y))\n",
        "\n",
        "train_sizes, train_scores, valid_scores = learning_curve(\n",
        "    RandomForestClassifier(), X, y, cv=5, n_jobs=-1,\n",
        "    train_sizes=np.linspace(0.1, 1.0, 10), scoring='accuracy'\n",
        ")\n",
        "\n",
        "print(\"Train sizes:\", train_sizes)\n",
        "print(\"Train scores:\", train_scores)\n",
        "print(\"Validation scores:\", valid_scores)"
      ],
      "cell_type": "code",
      "metadata": {
        "colab": {
          "base_uri": "https://localhost:8080/"
        },
        "id": "zfWgg70K-i28",
        "outputId": "890e7e54-7ffe-4480-838f-8f2b114ef1f2"
      },
      "execution_count": 28,
      "outputs": [
        {
          "output_type": "stream",
          "name": "stdout",
          "text": [
            "Shape of X: (150, 5)\n",
            "Shape of y: (150,)\n",
            "Unique values in y: [0. 1. 2.]\n",
            "Train sizes: [ 12  24  36  48  60  72  84  96 108 120]\n",
            "Train scores: [[1. 1. 1. 1. 1.]\n",
            " [1. 1. 1. 1. 1.]\n",
            " [1. 1. 1. 1. 1.]\n",
            " [1. 1. 1. 1. 1.]\n",
            " [1. 1. 1. 1. 1.]\n",
            " [1. 1. 1. 1. 1.]\n",
            " [1. 1. 1. 1. 1.]\n",
            " [1. 1. 1. 1. 1.]\n",
            " [1. 1. 1. 1. 1.]\n",
            " [1. 1. 1. 1. 1.]]\n",
            "Validation scores: [[0.33333333 0.33333333 0.33333333 0.33333333 0.33333333]\n",
            " [0.33333333 0.33333333 0.33333333 0.33333333 0.33333333]\n",
            " [0.33333333 0.33333333 0.33333333 0.33333333 0.33333333]\n",
            " [0.66666667 0.66666667 0.66666667 0.66666667 0.66666667]\n",
            " [0.66666667 0.66666667 0.66666667 0.66666667 0.66666667]\n",
            " [0.66666667 0.66666667 0.66666667 0.66666667 0.66666667]\n",
            " [0.96666667 0.96666667 1.         1.         1.        ]\n",
            " [1.         1.         0.96666667 1.         1.        ]\n",
            " [1.         1.         1.         1.         1.        ]\n",
            " [1.         1.         1.         1.         1.        ]]\n"
          ]
        }
      ]
    },
    {
      "cell_type": "markdown",
      "source": [
        "**CONCLUSION**\n",
        "\n",
        "\n",
        "From this project we are able to sucessfully perform classification on the Iris dataset using Spark MLlib and Random Forest algorithm. The Random Forest model demonstated high performance and effective classification for the iris species with minimal errors. The petal dimensions (width and lenght) were identified as the most important feature for classification, aligning with biological insights about iris flowers. The model also maintained a balance performance across all classes and indicated reliable predictions. Overall this project demonstrated the effectiveness usuing Spark MLlib and Random Forest for classification tasks, providing valueble insight into importance feature and model performance."
      ],
      "metadata": {
        "id": "MVqv8JvbGpjZ"
      }
    }
  ]
}