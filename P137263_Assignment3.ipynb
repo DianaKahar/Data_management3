{
  "nbformat": 4,
  "nbformat_minor": 0,
  "metadata": {
    "colab": {
      "provenance": [],
      "authorship_tag": "ABX9TyOD0SMtDzTBauw96p/ng3ze",
      "include_colab_link": true
    },
    "kernelspec": {
      "name": "python3",
      "display_name": "Python 3"
    },
    "language_info": {
      "name": "python"
    }
  },
  "cells": [
    {
      "cell_type": "markdown",
      "metadata": {
        "id": "view-in-github",
        "colab_type": "text"
      },
      "source": [
        "<a href=\"https://colab.research.google.com/github/DianaKahar/Data_management3/blob/main/P137263_Assignment3.ipynb\" target=\"_parent\"><img src=\"https://colab.research.google.com/assets/colab-badge.svg\" alt=\"Open In Colab\"/></a>"
      ]
    },
    {
      "cell_type": "markdown",
      "source": [
        "#**STQD6324 DATA MANAGEMENT**"
      ],
      "metadata": {
        "id": "PzmYHoAE7HwC"
      }
    },
    {
      "cell_type": "markdown",
      "source": [
        "**INTRODUCTION**"
      ],
      "metadata": {
        "id": "yrc-ItRTWth3"
      }
    },
    {
      "cell_type": "code",
      "source": [
        "pip install pyspark"
      ],
      "metadata": {
        "colab": {
          "base_uri": "https://localhost:8080/"
        },
        "id": "_VZ5mLCvDW0Z",
        "outputId": "7e6dd02f-59c6-405a-ad19-d589ca185677"
      },
      "execution_count": 7,
      "outputs": [
        {
          "output_type": "stream",
          "name": "stdout",
          "text": [
            "Collecting pyspark\n",
            "  Downloading pyspark-3.5.1.tar.gz (317.0 MB)\n",
            "\u001b[2K     \u001b[90m━━━━━━━━━━━━━━━━━━━━━━━━━━━━━━━━━━━━━━━━\u001b[0m \u001b[32m317.0/317.0 MB\u001b[0m \u001b[31m2.2 MB/s\u001b[0m eta \u001b[36m0:00:00\u001b[0m\n",
            "\u001b[?25h  Preparing metadata (setup.py) ... \u001b[?25l\u001b[?25hdone\n",
            "Requirement already satisfied: py4j==0.10.9.7 in /usr/local/lib/python3.10/dist-packages (from pyspark) (0.10.9.7)\n",
            "Building wheels for collected packages: pyspark\n",
            "  Building wheel for pyspark (setup.py) ... \u001b[?25l\u001b[?25hdone\n",
            "  Created wheel for pyspark: filename=pyspark-3.5.1-py2.py3-none-any.whl size=317488491 sha256=4f2f804fb5dd2115660536b9fb005cac247e493eda4b206d4c2c35b724052947\n",
            "  Stored in directory: /root/.cache/pip/wheels/80/1d/60/2c256ed38dddce2fdd93be545214a63e02fbd8d74fb0b7f3a6\n",
            "Successfully built pyspark\n",
            "Installing collected packages: pyspark\n",
            "Successfully installed pyspark-3.5.1\n"
          ]
        }
      ]
    },
    {
      "cell_type": "code",
      "source": [
        "import pandas as pd\n",
        "from sklearn.datasets import load_iris\n",
        "from pyspark.sql import SparkSession"
      ],
      "metadata": {
        "id": "SoQgwzyc6JLe"
      },
      "execution_count": 8,
      "outputs": []
    },
    {
      "cell_type": "code",
      "source": [
        "iris = load_iris()\n",
        "iris_df = pd.DataFrame(data=iris.data, columns=iris.feature_names)\n",
        "iris_df['label'] = iris.target"
      ],
      "metadata": {
        "id": "PwP8Ttn66JOZ"
      },
      "execution_count": 2,
      "outputs": []
    },
    {
      "cell_type": "code",
      "source": [
        "iris_df.to_csv('iris.csv', index=False)"
      ],
      "metadata": {
        "id": "YeRdHkS-6JRy"
      },
      "execution_count": 5,
      "outputs": []
    },
    {
      "cell_type": "code",
      "source": [
        "spark = SparkSession.builder.appName(\"IrisClassification\").getOrCreate()"
      ],
      "metadata": {
        "id": "CD_KZt8A6JYC"
      },
      "execution_count": 9,
      "outputs": []
    },
    {
      "cell_type": "code",
      "source": [
        "data = spark.read.csv('iris.csv', header=True, inferSchema=True)\n",
        "data.show()"
      ],
      "metadata": {
        "colab": {
          "base_uri": "https://localhost:8080/"
        },
        "id": "4f6xmZRv6JbM",
        "outputId": "a6bbaa09-7568-49b5-f653-d49588e2271e"
      },
      "execution_count": 10,
      "outputs": [
        {
          "output_type": "stream",
          "name": "stdout",
          "text": [
            "+-----------------+----------------+-----------------+----------------+-----+\n",
            "|sepal length (cm)|sepal width (cm)|petal length (cm)|petal width (cm)|label|\n",
            "+-----------------+----------------+-----------------+----------------+-----+\n",
            "|              5.1|             3.5|              1.4|             0.2|    0|\n",
            "|              4.9|             3.0|              1.4|             0.2|    0|\n",
            "|              4.7|             3.2|              1.3|             0.2|    0|\n",
            "|              4.6|             3.1|              1.5|             0.2|    0|\n",
            "|              5.0|             3.6|              1.4|             0.2|    0|\n",
            "|              5.4|             3.9|              1.7|             0.4|    0|\n",
            "|              4.6|             3.4|              1.4|             0.3|    0|\n",
            "|              5.0|             3.4|              1.5|             0.2|    0|\n",
            "|              4.4|             2.9|              1.4|             0.2|    0|\n",
            "|              4.9|             3.1|              1.5|             0.1|    0|\n",
            "|              5.4|             3.7|              1.5|             0.2|    0|\n",
            "|              4.8|             3.4|              1.6|             0.2|    0|\n",
            "|              4.8|             3.0|              1.4|             0.1|    0|\n",
            "|              4.3|             3.0|              1.1|             0.1|    0|\n",
            "|              5.8|             4.0|              1.2|             0.2|    0|\n",
            "|              5.7|             4.4|              1.5|             0.4|    0|\n",
            "|              5.4|             3.9|              1.3|             0.4|    0|\n",
            "|              5.1|             3.5|              1.4|             0.3|    0|\n",
            "|              5.7|             3.8|              1.7|             0.3|    0|\n",
            "|              5.1|             3.8|              1.5|             0.3|    0|\n",
            "+-----------------+----------------+-----------------+----------------+-----+\n",
            "only showing top 20 rows\n",
            "\n"
          ]
        }
      ]
    },
    {
      "cell_type": "code",
      "source": [],
      "metadata": {
        "id": "PQREG12S6JeU"
      },
      "execution_count": null,
      "outputs": []
    },
    {
      "cell_type": "code",
      "source": [],
      "metadata": {
        "id": "n8UYhN6p6Jhc"
      },
      "execution_count": null,
      "outputs": []
    },
    {
      "cell_type": "code",
      "source": [],
      "metadata": {
        "id": "B0LDHZuo6Jk1"
      },
      "execution_count": null,
      "outputs": []
    },
    {
      "cell_type": "code",
      "source": [],
      "metadata": {
        "id": "3HFwhNgw6JoA"
      },
      "execution_count": null,
      "outputs": []
    }
  ]
}